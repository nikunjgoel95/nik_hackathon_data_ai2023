{
 "cells": [
  {
   "cell_type": "markdown",
   "metadata": {
    "application/vnd.databricks.v1+cell": {
     "cellMetadata": {},
     "inputWidgets": {},
     "nuid": "1f5340cb-8391-40ba-bf8e-68b5e1795982",
     "showTitle": false,
     "title": ""
    }
   },
   "source": [
    "AI-Powered High School Advisor Tool\n",
    "\n",
    "*Title: SmartAdvisor: Revolutionizing High School Student Success with AI*\n",
    "\n",
    "* 1. Introduction:\n",
    "\n",
    "SmartAdvisor is an innovative high school advisor tool that leverages the power of large language models and artificial intelligence (AI) to provide comprehensive insights into student performance. By analyzing remarks, grades, and various activities throughout a student's academic journey, SmartAdvisor aims to revolutionize the way high school advisors understand and support their students' consistent areas of success.\n",
    "\n",
    "\n",
    "* 2. Problem Statement:\n",
    "\n",
    "High school advisors often face challenges in efficiently and accurately tracking and analyzing student data to gain a holistic understanding of their academic progress and achievements. The manual process of reviewing remarks, grades, and activities can be time-consuming and prone to human error, making it difficult to identify consistent strengths and areas of improvement. SmartAdvisor seeks to address these challenges by utilizing AI to process and interpret student data effectively.\n",
    "\n",
    "* 3. Objectives:\n",
    "\n",
    "\n",
    "The primary objectives of SmartAdvisor are as follows:\n",
    "* - Automated Data Processing: Develop an AI-powered system that automatically collects, processes, and analyzes student data, including remarks, grades, and extracurricular activities.\n",
    "* - Identify Consistent Strengths: Utilize advanced language models to identify patterns and consistent areas of success for each student, highlighting their strengths and areas where they excel consistently.\n",
    "* - Personalized Recommendations: Provide tailored recommendations for advisors based on the analyzed data, empowering them to offer targeted guidance to students in their areas of strength.\n",
    "* - Early Intervention: Enable advisors to identify potential areas of improvement or challenges faced by students and intervene promptly to support their progress.\n",
    "* - Enhance Student Engagement: Engage students in their own progress by providing them with clear insights into their accomplishments and areas for growth, encouraging self-reflection and active participation in their academic journey.\n",
    "\n",
    "\n",
    "\n",
    "* 4. Key Features and Functionality:\n",
    "\n",
    "\n",
    "\n",
    "* a. Data Processing and Analysis: Utilize large language models, such as GPT-3.5, to process and analyze student data, including grades, remarks, and extracurricular activities, to identify patterns and consistent areas of success.\n",
    "* b. Automated Insights Generation: Develop algorithms that generate actionable insights based on the analyzed data, providing advisors with valuable information to guide their counseling sessions.\n",
    "* c. Natural Language Interface: Create an intuitive and conversational interface that allows advisors to interact with SmartAdvisor using natural language queries to obtain real-time insights and recommendations.\n",
    "* d. Progress Tracking and Visualization: Implement visualizations and progress tracking features that enable advisors, students, and parents to monitor academic growth and identify areas for improvement.\n",
    "* e. Integration with Existing Systems: Ensure seamless integration with school databases and management systems to collect and update student data in real-time, minimizing manual data entry.\n",
    "\n",
    "\n",
    "\n",
    "* 5. Implementation Strategy:\n",
    "\n",
    "\n",
    "\n",
    "* a. Data Acquisition and Preparation: Collaborate with educational institutions to obtain access to student data, ensuring data privacy and compliance with relevant regulations.\n",
    "* b. AI Model Training and Validation: Train and fine-tune large language models using a diverse dataset of student records, remarks, grades, and activities to accurately analyze and extract insights.\n",
    "* c. Development of SmartAdvisor Platform: Build a user-friendly and secure web or mobile application interface for advisors, students, and parents to access the SmartAdvisor tool.\n",
    "* d. User Feedback and Iterative Improvements: Conduct regular user testing and gather feedback from advisors, students, and parents to improve the tool's functionality, user experience, and accuracy of insights.\n",
    "* e. Deployment and Scalability: Ensure the tool is deployable across multiple high schools, scaling the infrastructure to accommodate increasing data volume and user demand.\n",
    "\n",
    "* 6. Benefits and Impact:\n",
    "\n",
    "a. Data-Driven Decision Making: SmartAdvisor empowers high school advisors to make informed decisions based on AI-generated insights, enhancing the quality of academic guidance and support provided to students.\n",
    "b. Improved Student Outcomes: By identifying consistent areas of success and areas for growth, SmartAdvisor enables targeted interventions and personalized recommendations, fostering improved student performance and engagement.\n",
    "c. Streamlined Advisor Workflow: The tool automates data processing and analysis, saving advisors' time and effort, allowing them to focus on providing individualized support to students.\n",
    "d. Enhanced Parent-Advisor Collaboration: SmartAdvisor facilitates transparent and meaningful communication between parents and advisors by providing real-time access to student data, fostering collaborative efforts to support student success.\n",
    "\n",
    "* 7. Conclusion:\n",
    "\n",
    "SmartAdvisor is set to revolutionize the high school advising process by harnessing the power of AI and large language models. With its ability to analyze student data comprehensively and provide actionable insights, SmartAdvisor empowers advisors to support students' consistent areas of success and guide them towards a successful academic journey."
   ]
  },
  {
   "cell_type": "code",
   "execution_count": 0,
   "metadata": {
    "application/vnd.databricks.v1+cell": {
     "cellMetadata": {
      "byteLimit": 2048000,
      "rowLimit": 10000
     },
     "inputWidgets": {},
     "nuid": "515b4e98-b5c3-45e0-a4e3-4a14ad0bda1e",
     "showTitle": false,
     "title": ""
    }
   },
   "outputs": [
    {
     "output_type": "stream",
     "name": "stdout",
     "output_type": "stream",
     "text": [
      "Python interpreter will be restarted.\nRequirement already satisfied: langchain in /local_disk0/.ephemeral_nfs/envs/pythonEnv-c04cd3b8-9419-4e75-87ab-634b3512e126/lib/python3.9/site-packages (0.0.216)\nRequirement already satisfied: openapi-schema-pydantic<2.0,>=1.2 in /local_disk0/.ephemeral_nfs/envs/pythonEnv-c04cd3b8-9419-4e75-87ab-634b3512e126/lib/python3.9/site-packages (from langchain) (1.2.4)\nRequirement already satisfied: pydantic<2,>=1 in /databricks/python3/lib/python3.9/site-packages (from langchain) (1.10.2)\nRequirement already satisfied: langchainplus-sdk>=0.0.17 in /local_disk0/.ephemeral_nfs/envs/pythonEnv-c04cd3b8-9419-4e75-87ab-634b3512e126/lib/python3.9/site-packages (from langchain) (0.0.17)\nRequirement already satisfied: numexpr<3.0.0,>=2.8.4 in /local_disk0/.ephemeral_nfs/envs/pythonEnv-c04cd3b8-9419-4e75-87ab-634b3512e126/lib/python3.9/site-packages (from langchain) (2.8.4)\nRequirement already satisfied: SQLAlchemy<3,>=1.4 in /local_disk0/.ephemeral_nfs/cluster_libraries/python/lib/python3.9/site-packages (from langchain) (1.4.48)\nRequirement already satisfied: tenacity<9.0.0,>=8.1.0 in /local_disk0/.ephemeral_nfs/envs/pythonEnv-c04cd3b8-9419-4e75-87ab-634b3512e126/lib/python3.9/site-packages (from langchain) (8.2.2)\nRequirement already satisfied: numpy<2,>=1 in /databricks/python3/lib/python3.9/site-packages (from langchain) (1.21.5)\nRequirement already satisfied: PyYAML>=5.4.1 in /databricks/python3/lib/python3.9/site-packages (from langchain) (6.0)\nRequirement already satisfied: requests<3,>=2 in /databricks/python3/lib/python3.9/site-packages (from langchain) (2.27.1)\nRequirement already satisfied: dataclasses-json<0.6.0,>=0.5.7 in /local_disk0/.ephemeral_nfs/envs/pythonEnv-c04cd3b8-9419-4e75-87ab-634b3512e126/lib/python3.9/site-packages (from langchain) (0.5.8)\nRequirement already satisfied: aiohttp<4.0.0,>=3.8.3 in /local_disk0/.ephemeral_nfs/cluster_libraries/python/lib/python3.9/site-packages (from langchain) (3.8.4)\nRequirement already satisfied: async-timeout<5.0.0,>=4.0.0 in /local_disk0/.ephemeral_nfs/cluster_libraries/python/lib/python3.9/site-packages (from langchain) (4.0.2)\nRequirement already satisfied: frozenlist>=1.1.1 in /local_disk0/.ephemeral_nfs/cluster_libraries/python/lib/python3.9/site-packages (from aiohttp<4.0.0,>=3.8.3->langchain) (1.3.3)\nRequirement already satisfied: charset-normalizer<4.0,>=2.0 in /databricks/python3/lib/python3.9/site-packages (from aiohttp<4.0.0,>=3.8.3->langchain) (2.0.4)\nRequirement already satisfied: yarl<2.0,>=1.0 in /local_disk0/.ephemeral_nfs/cluster_libraries/python/lib/python3.9/site-packages (from aiohttp<4.0.0,>=3.8.3->langchain) (1.9.2)\nRequirement already satisfied: aiosignal>=1.1.2 in /local_disk0/.ephemeral_nfs/cluster_libraries/python/lib/python3.9/site-packages (from aiohttp<4.0.0,>=3.8.3->langchain) (1.3.1)\nRequirement already satisfied: multidict<7.0,>=4.5 in /local_disk0/.ephemeral_nfs/cluster_libraries/python/lib/python3.9/site-packages (from aiohttp<4.0.0,>=3.8.3->langchain) (6.0.4)\nRequirement already satisfied: attrs>=17.3.0 in /databricks/python3/lib/python3.9/site-packages (from aiohttp<4.0.0,>=3.8.3->langchain) (21.4.0)\nRequirement already satisfied: typing-inspect>=0.4.0 in /local_disk0/.ephemeral_nfs/envs/pythonEnv-c04cd3b8-9419-4e75-87ab-634b3512e126/lib/python3.9/site-packages (from dataclasses-json<0.6.0,>=0.5.7->langchain) (0.9.0)\nRequirement already satisfied: marshmallow<4.0.0,>=3.3.0 in /local_disk0/.ephemeral_nfs/envs/pythonEnv-c04cd3b8-9419-4e75-87ab-634b3512e126/lib/python3.9/site-packages (from dataclasses-json<0.6.0,>=0.5.7->langchain) (3.19.0)\nRequirement already satisfied: marshmallow-enum<2.0.0,>=1.5.1 in /local_disk0/.ephemeral_nfs/envs/pythonEnv-c04cd3b8-9419-4e75-87ab-634b3512e126/lib/python3.9/site-packages (from dataclasses-json<0.6.0,>=0.5.7->langchain) (1.5.1)\nRequirement already satisfied: packaging>=17.0 in /databricks/python3/lib/python3.9/site-packages (from marshmallow<4.0.0,>=3.3.0->dataclasses-json<0.6.0,>=0.5.7->langchain) (21.3)\nRequirement already satisfied: pyparsing!=3.0.5,>=2.0.2 in /databricks/python3/lib/python3.9/site-packages (from packaging>=17.0->marshmallow<4.0.0,>=3.3.0->dataclasses-json<0.6.0,>=0.5.7->langchain) (3.0.4)\nRequirement already satisfied: typing-extensions>=4.1.0 in /databricks/python3/lib/python3.9/site-packages (from pydantic<2,>=1->langchain) (4.1.1)\nRequirement already satisfied: idna<4,>=2.5 in /databricks/python3/lib/python3.9/site-packages (from requests<3,>=2->langchain) (3.3)\nRequirement already satisfied: urllib3<1.27,>=1.21.1 in /databricks/python3/lib/python3.9/site-packages (from requests<3,>=2->langchain) (1.26.9)\nRequirement already satisfied: certifi>=2017.4.17 in /databricks/python3/lib/python3.9/site-packages (from requests<3,>=2->langchain) (2021.10.8)\nRequirement already satisfied: greenlet!=0.4.17 in /local_disk0/.ephemeral_nfs/cluster_libraries/python/lib/python3.9/site-packages (from SQLAlchemy<3,>=1.4->langchain) (2.0.2)\nRequirement already satisfied: mypy-extensions>=0.3.0 in /databricks/python3/lib/python3.9/site-packages (from typing-inspect>=0.4.0->dataclasses-json<0.6.0,>=0.5.7->langchain) (0.4.3)\nPython interpreter will be restarted.\nPython interpreter will be restarted.\nCollecting openai\n  Downloading openai-0.27.8-py3-none-any.whl (73 kB)\nRequirement already satisfied: tqdm in /databricks/python3/lib/python3.9/site-packages (from openai) (4.64.0)\nRequirement already satisfied: requests>=2.20 in /databricks/python3/lib/python3.9/site-packages (from openai) (2.27.1)\nRequirement already satisfied: aiohttp in /local_disk0/.ephemeral_nfs/cluster_libraries/python/lib/python3.9/site-packages (from openai) (3.8.4)\nRequirement already satisfied: idna<4,>=2.5 in /databricks/python3/lib/python3.9/site-packages (from requests>=2.20->openai) (3.3)\nRequirement already satisfied: charset-normalizer~=2.0.0 in /databricks/python3/lib/python3.9/site-packages (from requests>=2.20->openai) (2.0.4)\nRequirement already satisfied: urllib3<1.27,>=1.21.1 in /databricks/python3/lib/python3.9/site-packages (from requests>=2.20->openai) (1.26.9)\nRequirement already satisfied: certifi>=2017.4.17 in /databricks/python3/lib/python3.9/site-packages (from requests>=2.20->openai) (2021.10.8)\nRequirement already satisfied: frozenlist>=1.1.1 in /local_disk0/.ephemeral_nfs/cluster_libraries/python/lib/python3.9/site-packages (from aiohttp->openai) (1.3.3)\nRequirement already satisfied: yarl<2.0,>=1.0 in /local_disk0/.ephemeral_nfs/cluster_libraries/python/lib/python3.9/site-packages (from aiohttp->openai) (1.9.2)\nRequirement already satisfied: async-timeout<5.0,>=4.0.0a3 in /local_disk0/.ephemeral_nfs/cluster_libraries/python/lib/python3.9/site-packages (from aiohttp->openai) (4.0.2)\nRequirement already satisfied: aiosignal>=1.1.2 in /local_disk0/.ephemeral_nfs/cluster_libraries/python/lib/python3.9/site-packages (from aiohttp->openai) (1.3.1)\nRequirement already satisfied: multidict<7.0,>=4.5 in /local_disk0/.ephemeral_nfs/cluster_libraries/python/lib/python3.9/site-packages (from aiohttp->openai) (6.0.4)\nRequirement already satisfied: attrs>=17.3.0 in /databricks/python3/lib/python3.9/site-packages (from aiohttp->openai) (21.4.0)\nInstalling collected packages: openai\nSuccessfully installed openai-0.27.8\nPython interpreter will be restarted.\n"
     ]
    }
   ],
   "source": [
    "%pip install langchain\n",
    "%pip install openai"
   ]
  },
  {
   "cell_type": "code",
   "execution_count": 0,
   "metadata": {
    "application/vnd.databricks.v1+cell": {
     "cellMetadata": {
      "byteLimit": 2048000,
      "rowLimit": 10000
     },
     "inputWidgets": {},
     "nuid": "ef832775-e20f-4e13-9c56-3b34599bc332",
     "showTitle": false,
     "title": ""
    }
   },
   "outputs": [],
   "source": [
    "emily_data = spark.read.text('dbfs:/FileStore/Nikunj/emily_high_school_hack.txt', wholetext=True).collect()"
   ]
  },
  {
   "cell_type": "markdown",
   "metadata": {
    "application/vnd.databricks.v1+cell": {
     "cellMetadata": {},
     "inputWidgets": {},
     "nuid": "90049f33-e237-4aa2-9e02-52e348b8acc9",
     "showTitle": false,
     "title": ""
    }
   },
   "source": [
    "Looking at the data of a student names Emily from her school life"
   ]
  },
  {
   "cell_type": "code",
   "execution_count": 0,
   "metadata": {
    "application/vnd.databricks.v1+cell": {
     "cellMetadata": {
      "byteLimit": 2048000,
      "rowLimit": 10000
     },
     "inputWidgets": {},
     "nuid": "e6f60473-d474-4c62-a012-57d8403813c2",
     "showTitle": false,
     "title": ""
    }
   },
   "outputs": [
    {
     "output_type": "stream",
     "name": "stdout",
     "output_type": "stream",
     "text": [
      "Out[24]: \"Grade 1:\\n- English: A\\n  - Teacher Remarks: Emily shows good effort in reading and comprehension. However, she needs to work on improving her spelling skills.\\n- Mathematics: B+\\n  - Teacher Remarks: Emily has made excellent progress in understanding basic mathematical concepts. Her problem-solving skills are developing well.\\n- Science: B-\\n  - Teacher Remarks: Emily demonstrates curiosity and enthusiasm in science activities. However, she needs to pay closer attention to following instructions.\\n- Social Studies: A-\\n  - Teacher Remarks: Emily actively participates in class discussions and shows a good understanding of community values.\\n- Physical Education: A\\n  - Teacher Remarks: Emily displays enthusiasm and good sportsmanship in physical education activities.\\n\\nGrade 2:\\n- English: A+\\n  - Teacher Remarks: Emily excels in reading comprehension and shows a strong command of vocabulary. Her storytelling skills are impressive.\\n- Mathematics: A-\\n  - Teacher Remarks: Emily has a solid grasp of basic arithmetic operations. She should focus on practicing word problems to further enhance her skills.\\n- Science: B\\n  - Teacher Remarks: Emily shows interest and engagement during science experiments. However, she needs to work on maintaining better focus throughout the process.\\n- Social Studies: B+\\n  - Teacher Remarks: Emily demonstrates a good understanding of community history and values. She actively participates in group projects.\\n- Art: A\\n  - Teacher Remarks: Emily displays creativity and pays attention to detail in her artwork.\\n\\nGrade 3:\\n- English: A-\\n  - Teacher Remarks: Emily exhibits good storytelling skills and has shown improvement in grammar. She should continue working on refining her grammar usage.\\n- Mathematics: B\\n  - Teacher Remarks: Emily's mathematical skills are progressing well. However, she needs to practice more on word problems to enhance her problem-solving abilities.\\n- Science: B+\\n  - Teacher Remarks: Emily demonstrates a keen interest in hands-on experiments. She should focus on following instructions carefully to achieve better results.\\n- Social Studies: A\\n  - Teacher Remarks: Emily is well-informed about local history and culture. She actively participates in class discussions and shares valuable insights.\\n- Music: A+\\n  - Teacher Remarks: Emily's vocal abilities are outstanding. She shows great enthusiasm and dedication to music.\\n\\nGrade 4:\\n- English: B+\\n  - Teacher Remarks: Emily's writing structure needs improvement. She should focus on organizing her ideas more effectively.\\n- Mathematics: A\\n  - Teacher Remarks: Emily's problem-solving skills are excellent, and she consistently demonstrates a strong understanding of mathematical concepts.\\n- Science: B\\n  - Teacher Remarks: Emily needs to improve her focus during science lectures to fully grasp the concepts being taught.\\n- Social Studies: A-\\n  - Teacher Remarks: Emily actively participates in group projects and shows a good understanding of social studies topics.\\n- Computer Science: A+\\n  - Teacher Remarks: Emily exhibits exceptional coding abilities and demonstrates a high level of logical thinking.\\n\\nGrade 5:\\n- English: A\\n  - Teacher Remarks: Emily possesses a strong vocabulary and consistently demonstrates excellent reading comprehension skills.\\n- Mathematics: A-\\n  - Teacher Remarks: Emily has a solid understanding of fractions and decimals. Continued practice will further enhance her mathematical abilities.\\n- Science: B+\\n  - Teacher Remarks: Emily displays curiosity and enthusiasm in conducting experiments. She should work on maintaining a focused approach throughout.\\n- Social Studies: B\\n  - Teacher Remarks: Emily needs to improve her note-taking skills during social studies lectures to fully absorb the information.\\n- Physical Education: A+\\n  - Teacher Remarks: Emily showcases exceptional athletic skills and actively participates in physical education activities.\\n\\nCertainly! Here's an updated version of Emily's raw data from Grade 6 to Grade 10, including peer reviews along with teacher remarks:\\n\\nGrade 6:\\n- English: A-\\n  - Teacher Remarks: Emily has strong writing skills, but she needs to work on improving her punctuation and grammar.\\n  - Peer Review: Emily's stories are engaging and imaginative. Her writing has improved a lot since the beginning of the year.\\n- Mathematics: A+\\n  - Teacher Remarks: Emily has an advanced understanding of algebraic concepts and consistently demonstrates excellent problem-solving abilities.\\n  - Peer Review: Emily is always willing to help her classmates and explains mathematical concepts clearly. She's a valuable resource in our math class.\\n- Science: B+\\n  - Teacher Remarks: Emily shows a genuine interest in scientific research and conducts experiments with enthusiasm. She should focus on providing more detailed scientific explanations.\\n  - Peer Review: Emily's passion for science is evident in her experiments. She could improve by explaining her findings in more depth.\\n- Social Studies: B-\\n  - Teacher Remarks: Emily needs to improve her focus during class discussions and actively engage with the material being presented.\\n  - Peer Review: Emily has great insights during class discussions, but sometimes she gets distracted and loses track of the conversation.\\n- Drama: A\\n  - Teacher Remarks: Emily displays outstanding performance skills and confidently brings characters to life on stage.\\n  - Peer Review: Emily's acting skills are impressive, and she always brings energy and enthusiasm to our drama productions.\\n\\nGrade 7:\\n- English: B+\\n  - Teacher Remarks: Emily needs to work on improving her analysis of literature and providing more insightful interpretations.\\n  - Peer Review: Emily's interpretations of literature are thoughtful, and she often offers unique perspectives during class discussions.\\n- Mathematics: A\\n  - Teacher Remarks: Emily demonstrates an excellent understanding of geometry and consistently applies mathematical concepts accurately.\\n  - Peer Review: Emily is always willing to help her peers with math problems. Her explanations are clear, and she makes math more enjoyable for everyone.\\n- Science: A-\\n  - Teacher Remarks: Emily shows a strong interest in scientific concepts and exhibits good laboratory skills. She should focus on improving her explanations of scientific phenomena.\\n  - Peer Review: Emily's scientific explanations are clear and well thought out. She could benefit from participating more actively in group experiments.\\n- Social Studies: A+\\n  - Teacher Remarks: Emily actively engages in debates and presentations, showcasing a deep understanding of social studies topics.\\n  - Peer Review: Emily's presentations are well-researched, and she presents her arguments convincingly. She inspires us to think critically about the topics we discuss.\\n- Robotics: A\\n  - Teacher Remarks: Emily excels in problem-solving and demonstrates exceptional abilities in programming and building robots.\\n  - Peer Review: Emily's programming skills are impressive, and she's always willing to help others troubleshoot their robot designs.\\n\\nGrade 8:\\n- English: A\\n  - Teacher Remarks: Emily's analytical and writing skills are strong, and she consistently produces thoughtful and well-structured written work.\\n  - Peer Review: Emily's writing is eloquent and engaging. She provides valuable feedback on our essays and helps us improve our writing.\\n- Mathematics: A-\\n  - Teacher Remarks: Emily has a solid understanding of algebra and calculus. With continued practice, she can further enhance her mathematical abilities.\\n  - Peer Review: Emily's mathematical abilities are exceptional. She's always willing to explain concepts and offers alternative approaches to problem-solving.\\n- Science: B+\\n  - Teacher Remarks: Emily shows a keen interest in environmental studies and actively participates in related activities. She should focus on developing her theoretical knowledge.\\n  - Peer Review: Emily's enthusiasm for environmental studies is contagious. She could improve by seeking out additional\\n\\n resources to deepen her understanding.\\n- Social Studies: B\\n  - Teacher Remarks: Emily needs to improve her focus during social studies lectures to fully absorb the information being presented.\\n  - Peer Review: Emily's participation in class discussions is valuable, but she sometimes gets distracted and misses important details from the lectures.\\n- Photography: A+\\n  - Teacher Remarks: Emily displays creativity and a keen eye for capturing memorable moments through photography.\\n  - Peer Review: Emily's photographs are stunning, and she has a unique perspective. She encourages us to see the world in new and beautiful ways.\\n\\nGrade 9:\\n- English: B+\\n  - Teacher Remarks: Emily should work on improving her critical analysis skills to provide more nuanced interpretations of literary texts.\\n  - Peer Review: Emily's insights in literature discussions are valuable, but she could strengthen her arguments with more textual evidence.\\n- Mathematics: A+\\n  - Teacher Remarks: Emily demonstrates an advanced understanding of advanced trigonometry and consistently applies mathematical concepts accurately.\\n  - Peer Review: Emily's mathematical abilities are exceptional, and she's always willing to help her classmates understand challenging concepts.\\n- Physics: B\\n  - Teacher Remarks: Emily needs more practice in problem-solving and applying theoretical concepts in physics.\\n  - Peer Review: Emily has a good grasp of physics concepts, but she could benefit from additional practice and seeking clarification on more challenging topics.\\n- Chemistry: A-\\n  - Teacher Remarks: Emily displays good laboratory skills, but she should focus on improving her theoretical knowledge in chemistry.\\n  - Peer Review: Emily's lab skills are impressive, and she's always willing to help her peers during experiments. She could further enhance her understanding of theoretical concepts.\\n- Debate Club: A\\n  - Teacher Remarks: Emily exhibits excellent public speaking skills and confidently presents arguments and counterarguments.\\n  - Peer Review: Emily's speaking skills are remarkable, and she consistently presents well-researched arguments. She sets a high standard for our debate club.\\n\\nGrade 10:\\n- English: A\\n  - Teacher Remarks: Emily's communication and writing skills are excellent. She consistently produces high-quality work and effectively expresses her ideas.\\n  - Peer Review: Emily's writing is persuasive and well-crafted. She's always open to feedback and helps us improve our own writing.\\n- Mathematics: A\\n  - Teacher Remarks: Emily has a solid understanding of advanced calculus and consistently demonstrates strong problem-solving abilities.\\n  - Peer Review: Emily's mathematical abilities are exceptional, and she helps us approach complex problems with confidence and creativity.\\n- Physics: A-\\n  - Teacher Remarks: Emily shows a keen interest in theoretical concepts in physics. With more practice, she can further improve her understanding.\\n  - Peer Review: Emily's enthusiasm for physics is inspiring. She could benefit from seeking additional resources to deepen her understanding of complex topics.\\n- Chemistry: A\\n  - Teacher Remarks: Emily's lab skills are exceptional, and she consistently demonstrates a solid understanding of chemical principles.\\n  - Peer Review: Emily's contributions in the chemistry lab are invaluable. She's always willing to share her knowledge and helps us conduct experiments successfully.\\n- Volunteer Work: A+\\n  - Teacher Remarks: Emily is dedicated to community service and actively contributes to various volunteer projects.\\n  - Peer Review: Emily's commitment to volunteer work is admirable. She leads by example and encourages us to make a positive impact on our community.\\n\""
     ]
    }
   ],
   "source": [
    "emily_data[0][\"value\"]"
   ]
  },
  {
   "cell_type": "code",
   "execution_count": 0,
   "metadata": {
    "application/vnd.databricks.v1+cell": {
     "cellMetadata": {
      "byteLimit": 2048000,
      "rowLimit": 10000
     },
     "inputWidgets": {},
     "nuid": "1e5ed98d-0828-4af5-ba15-938f452832d2",
     "showTitle": false,
     "title": ""
    }
   },
   "outputs": [],
   "source": [
    "import openai\n",
    "import os\n",
    "\n",
    "# Set up OpenAI API credentials\n",
    "openai_api_key = ''\n",
    "os.environ['OPENAI_API_KEY'] = openai_api_key"
   ]
  },
  {
   "cell_type": "code",
   "execution_count": 0,
   "metadata": {
    "application/vnd.databricks.v1+cell": {
     "cellMetadata": {
      "byteLimit": 2048000,
      "rowLimit": 10000
     },
     "inputWidgets": {},
     "nuid": "e489aa7c-72e3-43ff-a0d9-b889b80418c4",
     "showTitle": false,
     "title": ""
    }
   },
   "outputs": [],
   "source": [
    "from langchain.chat_models import ChatOpenAI"
   ]
  },
  {
   "cell_type": "code",
   "execution_count": 0,
   "metadata": {
    "application/vnd.databricks.v1+cell": {
     "cellMetadata": {
      "byteLimit": 2048000,
      "rowLimit": 10000
     },
     "inputWidgets": {},
     "nuid": "524074a5-abd0-4f09-887c-c4ebba8fb714",
     "showTitle": false,
     "title": ""
    }
   },
   "outputs": [],
   "source": [
    "from langchain.chains import ConversationalRetrievalChain\n",
    "from langchain.memory import ConversationBufferMemory\n",
    "from langchain.chains import LLMChain"
   ]
  },
  {
   "cell_type": "code",
   "execution_count": 0,
   "metadata": {
    "application/vnd.databricks.v1+cell": {
     "cellMetadata": {
      "byteLimit": 2048000,
      "rowLimit": 10000
     },
     "inputWidgets": {},
     "nuid": "03f84700-76b5-484b-b5f9-f8bcf607a297",
     "showTitle": false,
     "title": ""
    }
   },
   "outputs": [],
   "source": [
    "from langchain import PromptTemplate\n",
    "\n",
    "template = \"\"\"Answer the question based on the context below acting as a High school advisor. Give the description of the places student is doing right and places student is getting some challenges. If the\n",
    "question cannot be answered using the information provided answer\n",
    "with \"I don't know\".\n",
    "\n",
    "Context: {context}\n",
    "\n",
    "Question: {query}\n",
    "\n",
    "Answer: \"\"\"\n",
    "\n",
    "prompt_template = PromptTemplate(\n",
    "    input_variables=[\"context\",\"query\"],\n",
    "    template=template\n",
    ").partial(context = emily_data[0][\"value\"])\n"
   ]
  },
  {
   "cell_type": "code",
   "execution_count": 0,
   "metadata": {
    "application/vnd.databricks.v1+cell": {
     "cellMetadata": {
      "byteLimit": 2048000,
      "rowLimit": 10000
     },
     "inputWidgets": {},
     "nuid": "cf08ae25-b616-49a4-9b55-3b91a72bef09",
     "showTitle": false,
     "title": ""
    }
   },
   "outputs": [],
   "source": [
    "llm = ChatOpenAI(temperature=0, model=\"gpt-3.5-turbo-0613\")"
   ]
  },
  {
   "cell_type": "code",
   "execution_count": 0,
   "metadata": {
    "application/vnd.databricks.v1+cell": {
     "cellMetadata": {
      "byteLimit": 2048000,
      "rowLimit": 10000
     },
     "inputWidgets": {},
     "nuid": "a35a23f2-ffcb-43c0-8d07-04f633b75774",
     "showTitle": false,
     "title": ""
    }
   },
   "outputs": [],
   "source": [
    "chain = LLMChain(llm = llm, prompt = prompt_template)"
   ]
  },
  {
   "cell_type": "code",
   "execution_count": 0,
   "metadata": {
    "application/vnd.databricks.v1+cell": {
     "cellMetadata": {
      "byteLimit": 2048000,
      "rowLimit": 10000
     },
     "inputWidgets": {},
     "nuid": "313141b3-c939-4e26-bb78-f8f6c5f4d72d",
     "showTitle": false,
     "title": ""
    }
   },
   "outputs": [
    {
     "output_type": "stream",
     "name": "stdout",
     "output_type": "stream",
     "text": [
      "Out[41]: \"Based on the information provided, Emily's performance in elementary school was generally strong. She consistently received high grades in English, Mathematics, Science, Social Studies, and Physical Education. She showed good effort in reading and comprehension, had a solid grasp of basic mathematical concepts, demonstrated curiosity and enthusiasm in science activities, actively participated in class discussions, and displayed enthusiasm and good sportsmanship in physical education activities. However, she faced some challenges in areas such as spelling, maintaining focus, following instructions, and organizing her ideas in writing. Overall, Emily's performance in elementary school was commendable with areas for improvement.\""
     ]
    }
   ],
   "source": [
    "chain.run('''How was emily performance in elementary''')"
   ]
  }
 ],
 "metadata": {
  "application/vnd.databricks.v1+notebook": {
   "dashboards": [],
   "language": "python",
   "notebookMetadata": {
    "pythonIndentUnit": 4
   },
   "notebookName": "Data+Ai Hackathon",
   "widgets": {}
  }
 },
 "nbformat": 4,
 "nbformat_minor": 0
}
